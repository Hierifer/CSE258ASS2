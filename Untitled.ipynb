{
 "cells": [
  {
   "cell_type": "code",
   "execution_count": 2,
   "metadata": {},
   "outputs": [
    {
     "name": "stdout",
     "output_type": "stream",
     "text": [
      "Reading data...\n",
      "done\n"
     ]
    }
   ],
   "source": [
    "import numpy\n",
    "import urllib\n",
    "from urllib import request\n",
    "import scipy.optimize\n",
    "import random\n",
    "from collections import defaultdict\n",
    "import nltk\n",
    "import string\n",
    "from nltk.stem.porter import *\n",
    "from sklearn import linear_model\n",
    "\n",
    "def parseData(fname):\n",
    "  for l in urllib.request.urlopen(fname):\n",
    "    yield eval(l)\n",
    "\n",
    "### Just the first 5000 reviews\n",
    "\n",
    "print (\"Reading data...\")\n",
    "data = list(parseData(\"http://cseweb.ucsd.edu/~teh007/australian_user_reviews.json\"))\n",
    "print (\"done\")"
   ]
  },
  {
   "cell_type": "code",
   "execution_count": 3,
   "metadata": {},
   "outputs": [],
   "source": [
    "import random\n",
    "random.shuffle(data)\n",
    "\n",
    "trainData = data[:int(len(data) * 4/5)]\n",
    "testData = data[int(len(data) * 4/5):] \n",
    "\n",
    "stopwords = {'i', 'me', 'my', 'myself', 'we', 'our', 'ours', 'ourselves', 'you',\n",
    "'your', 'yours', 'yourself', 'yourselves', 'he', 'him', 'his', 'himself',\n",
    "'she', 'her', 'hers', 'herself', 'it', 'its', 'itself', 'they', 'them',\n",
    "'their', 'theirs', 'themselves', 'what', 'which', 'who', 'whom', 'this',\n",
    "'that', 'these', 'those', 'am', 'is', 'are', 'was', 'were', 'be', 'been',\n",
    "'being', 'have', 'has', 'had', 'having', 'do', 'does', 'did', 'doing',\n",
    "'a', 'an', 'the', 'and', 'but', 'if', 'or', 'because', 'as', 'until',\n",
    "'while', 'of', 'at', 'by', 'for', 'with', 'about', 'against', 'between',\n",
    "'into', 'through', 'during', 'before', 'after', 'above', 'below', 'to',\n",
    "'from', 'up', 'down', 'in', 'out', 'on', 'off', 'over', 'under', 'again',\n",
    "'further', 'then', 'once', 'here', 'there', 'when', 'where', 'why',\n",
    "'how', 'all', 'any', 'both', 'each', 'few', 'more', 'most', 'other',\n",
    "'some', 'such', 'no', 'nor', 'not', 'only', 'own', 'same', 'so', 'than',\n",
    "'too', 'very', 's', 't', 'can', 'will', 'just', 'don', 'should', 'now'}"
   ]
  },
  {
   "cell_type": "code",
   "execution_count": 4,
   "metadata": {},
   "outputs": [],
   "source": [
    "### Data Preparation\n",
    "trainSet = []\n",
    "for d in trainData:\n",
    "    for review in d['reviews']:\n",
    "        trainSet.append(review)\n",
    "\n",
    "testSet = []\n",
    "for d in testData:\n",
    "    for review in d['reviews']:\n",
    "        testSet.append(review)\n"
   ]
  },
  {
   "cell_type": "markdown",
   "metadata": {},
   "source": [
    "## Recommand Prediction:  1-gram##"
   ]
  },
  {
   "cell_type": "code",
   "execution_count": 4,
   "metadata": {},
   "outputs": [],
   "source": [
    "### Ignore capitalization and remove punctuation\n",
    "wordCount = defaultdict(int)\n",
    "punctuation = set(string.punctuation)\n",
    "stemmer = PorterStemmer()\n",
    "for d in trainSet:\n",
    "    r = ''.join([c for c in d['review'].lower() if not c in punctuation])\n",
    "    for w in r.split():\n",
    "        #w = stemmer.stem(w) # with stemming\n",
    "        if w not in stopwords:\n",
    "            wordCount[w] += 1\n",
    "    \n",
    "counts = [(wordCount[w], w) for w in wordCount]\n",
    "counts.sort()\n",
    "counts.reverse()\n",
    "\n",
    "words = [x[1] for x in counts[:1000]]\n",
    "\n",
    "\n",
    "wordId = dict(zip(words, range(len(words))))\n",
    "wordSet = set(words)\n",
    "\n",
    "def feature(datum):\n",
    "    feat = [0]*len(words)\n",
    "    r = ''.join([c for c in datum['review'].lower() if not c in punctuation])\n",
    "    for w in r.split():\n",
    "        if w in words:\n",
    "            feat[wordId[w]] += 1\n",
    "    feat.append(1) #offset\n",
    "    return feat\n",
    "\n",
    "X = [feature(d) for d in trainSet]\n",
    "y = [d['recommend'] for d in trainSet]\n",
    "    "
   ]
  },
  {
   "cell_type": "code",
   "execution_count": 5,
   "metadata": {},
   "outputs": [],
   "source": [
    "### Train Data\n",
    "\n",
    "clf = linear_model.Ridge(1.0, fit_intercept=False)\n",
    "clf.fit(X, y)\n",
    "theta = clf.coef_\n",
    "predictions = clf.predict(X)\n"
   ]
  },
  {
   "cell_type": "code",
   "execution_count": 145,
   "metadata": {},
   "outputs": [],
   "source": [
    "def MSE(clf, X, y):\n",
    "    predictions = clf.predict(X)\n",
    "    acc = 0\n",
    "    for i in range(len(predictions)):\n",
    "        acc += (predictions[i] - y[i])**2\n",
    "    return acc * 1.0 / len(predictions)\n",
    "    #return reduce(lambda acc, i: acc + (predictions[i] - y[i])**2 ,range(len(predictions)), 0) * 1.0 \\\n",
    "    #    /len(predictions)\n",
    "\n",
    "def ACC(clf, X, y):\n",
    "    predictions = clf.predict(X)\n",
    "    acc = 0\n",
    "    for i in range(len(predictions)):\n",
    "        if round(predictions[i]) == y[i]:\n",
    "            acc += 1\n",
    "    print(acc)\n",
    "    return acc * 1.0 / len(predictions)\n"
   ]
  },
  {
   "cell_type": "code",
   "execution_count": 7,
   "metadata": {},
   "outputs": [
    {
     "name": "stdout",
     "output_type": "stream",
     "text": [
      "42497\n",
      "MSE: 0.08002025771846652 ACC: 0.896617929405\n"
     ]
    }
   ],
   "source": [
    "print \"MSE: \" + str(MSE(clf, X, y)) + \" ACC: \" + str(ACC(clf, X, y))"
   ]
  },
  {
   "cell_type": "code",
   "execution_count": 8,
   "metadata": {},
   "outputs": [],
   "source": [
    "X = [feature(d) for d in testSet]\n",
    "y = [d['recommend'] for d in testSet]"
   ]
  },
  {
   "cell_type": "code",
   "execution_count": 9,
   "metadata": {},
   "outputs": [
    {
     "name": "stdout",
     "output_type": "stream",
     "text": [
      "10659\n",
      "MSE: 0.2467936420335417 ACC: 0.895112529392\n"
     ]
    }
   ],
   "source": [
    "print \"MSE: \" + str(MSE(clf, X, y)) + \" ACC: \" + str(ACC(clf, X, y))"
   ]
  },
  {
   "cell_type": "code",
   "execution_count": 10,
   "metadata": {},
   "outputs": [
    {
     "name": "stdout",
     "output_type": "stream",
     "text": [
      "[(-0.27959637142247046, 'sucks'), (-0.2647124426724208, 'worst'), (-0.2562198322165789, 'horrible'), (-0.23920276581981068, 'terrible'), (-0.2348923872748329, 'waste')]\n",
      "[(0.1438440936031105, 'shower'), (0.13157649758919934, 'john'), (0.09448315130347751, 'gud'), (0.09275542977596449, '1110'), (0.09267170520070628, '\\xcd\\x9c\\xca\\x96')]\n"
     ]
    }
   ],
   "source": [
    "# check what decides our predictor\n",
    "\n",
    "mapping = [(theta[wordId[w]], w) for w in wordId]\n",
    "mapping.sort()\n",
    "print mapping[:5]\n",
    "mapping.reverse()\n",
    "print mapping[:5]"
   ]
  },
  {
   "cell_type": "code",
   "execution_count": null,
   "metadata": {},
   "outputs": [],
   "source": [
    "for d in trainSet:\n",
    "    if '\\xcd\\x9c\\xca\\x96' in d['review']:\n",
    "        d['review']\n",
    "        \n",
    "#( ͡° ͜ʖ ͡°)\n",
    "\n",
    "for d in trainSet:\n",
    "    if 'john' in d['review']:\n",
    "        d['review']\n",
    "        \n",
    "#john madden\n",
    "\n",
    "for d in trainSet:\n",
    "    if 'gud' in d['review']:\n",
    "        d['review']\n",
    "        \n",
    "# gud used as super good\n",
    "\n"
   ]
  },
  {
   "cell_type": "markdown",
   "metadata": {},
   "source": [
    "## Recommend Prediction:  2-gram##"
   ]
  },
  {
   "cell_type": "code",
   "execution_count": 11,
   "metadata": {},
   "outputs": [],
   "source": [
    "bigramCount = defaultdict(int)\n",
    "punctuation = set(string.punctuation)\n",
    "stemmer = PorterStemmer()\n",
    "for d in trainSet:\n",
    "    r = ''.join([c for c in d['review'].lower() if not c in punctuation])\n",
    "    frt = r.split()[:-1]\n",
    "    sed = r.split()[1:]\n",
    "    for i in range(len(frt)):\n",
    "        #w = stemmer.stem(w) # with stemming\n",
    "        bigramCount[frt[i]+\" \"+sed[i]] += 1\n",
    "\n",
    "bcounts = [(bigramCount[w], w) for w in bigramCount]\n",
    "bcounts.sort()\n",
    "bcounts.reverse()\n",
    "\n",
    "words = [x[1] for x in bcounts[:1000]]\n",
    "\n",
    "### Sentiment analysis\n",
    "\n",
    "wordId = dict(zip(words, range(len(words))))\n",
    "wordSet = set(words)\n",
    "\n",
    "def feature(datum):\n",
    "    feat = [0]*len(words)\n",
    "    r = ''.join([c for c in datum['review'].lower() if not c in punctuation])\n",
    "    \n",
    "    frt = r.split()[:-1]\n",
    "    sed = r.split()[1:]\n",
    "    for i in range(len(frt)):\n",
    "        w = frt[i]+\" \"+sed[i]\n",
    "        if w in words:\n",
    "            feat[wordId[w]] += 1\n",
    "    feat.append(1) #offset\n",
    "    return feat\n",
    "\n",
    "X = [feature(d) for d in trainSet]\n",
    "y = [d['recommend'] for d in trainSet]\n",
    "\n",
    "#No regularization\n",
    "#theta,residuals,rank,s = numpy.linalg.lstsq(X, y)\n",
    "\n",
    "#With regularization\n",
    "clf = linear_model.Ridge(1.0, fit_intercept=False)\n",
    "clf.fit(X, y)\n",
    "theta = clf.coef_\n",
    "predictions = clf.predict(X)"
   ]
  },
  {
   "cell_type": "code",
   "execution_count": 12,
   "metadata": {},
   "outputs": [
    {
     "name": "stdout",
     "output_type": "stream",
     "text": [
      "42439\n",
      "MSE: 0.08550548552626326 ACC: 0.895394223263\n"
     ]
    }
   ],
   "source": [
    "print \"MSE: \" + str(MSE(clf, X, y)) + \" ACC: \" + str(ACC(clf, X, y))"
   ]
  },
  {
   "cell_type": "code",
   "execution_count": 13,
   "metadata": {},
   "outputs": [
    {
     "name": "stdout",
     "output_type": "stream",
     "text": [
      "10633\n",
      "MSE: 0.08953672201090176 ACC: 0.892929123278\n"
     ]
    }
   ],
   "source": [
    "\n",
    "X = [feature(d) for d in testSet]\n",
    "y = [d['recommend'] for d in testSet]\n",
    "print \"MSE: \" + str(MSE(clf, X, y)) + \" ACC: \" + str(ACC(clf, X, y))"
   ]
  },
  {
   "cell_type": "code",
   "execution_count": 14,
   "metadata": {},
   "outputs": [
    {
     "name": "stdout",
     "output_type": "stream",
     "text": [
      "[(-0.42796850545502246, 'dont buy'), (-0.35042953925336867, 'the worst'), (-0.33976080265368425, 'not worth'), (-0.3387197004508626, 'not buy'), (-0.265517993056466, 'piece of')]\n",
      "[(0.19725308985062293, 'of exile'), (0.11705160860814993, 'update adds'), (0.11644242975058862, 'a shower'), (0.10942815906096905, 'john madden'), (0.10396725044704073, 'muito bom')]\n"
     ]
    }
   ],
   "source": [
    "# check what decides our predictor\n",
    "\n",
    "mapping = [(theta[wordId[w]], w) for w in wordId]\n",
    "mapping.sort()\n",
    "print mapping[:5]\n",
    "mapping.reverse()\n",
    "print mapping[:5]"
   ]
  },
  {
   "cell_type": "code",
   "execution_count": 15,
   "metadata": {},
   "outputs": [],
   "source": [
    "for d in trainSet:\n",
    "    if '\\xe2\\x99\\xa5\\xe2\\x99\\xa5\\xe2\\x99\\xa5\\xe2\\x99\\xa5 shit' in d['review']:\n",
    "        d['review']\n",
    "        \n",
    "#♥♥♥♥ shit"
   ]
  },
  {
   "cell_type": "markdown",
   "metadata": {},
   "source": [
    "## Recommend Prodiction tfIdf-unigram ##"
   ]
  },
  {
   "cell_type": "code",
   "execution_count": 16,
   "metadata": {},
   "outputs": [],
   "source": [
    "wordCount = defaultdict(int)\n",
    "punctuation = set(string.punctuation)\n",
    "stemmer = PorterStemmer()\n",
    "for d in trainSet:\n",
    "    r = ''.join([c for c in d['review'].lower() if not c in punctuation])\n",
    "    for w in r.split():\n",
    "        #w = stemmer.stem(w) # with stemming\n",
    "        if w not in stopwords:\n",
    "            wordCount[w] += 1\n",
    "    \n",
    "counts = [(wordCount[w], w) for w in wordCount]\n",
    "counts.sort()\n",
    "counts.reverse()\n",
    "\n",
    "words = [x[1] for x in counts[:1000]]"
   ]
  },
  {
   "cell_type": "code",
   "execution_count": 17,
   "metadata": {},
   "outputs": [],
   "source": [
    "from math import *\n",
    "import numpy\n",
    "\n",
    "N = len(data)\n",
    "\n",
    "idfChecker = defaultdict(int)\n",
    "\n",
    "for i in words:\n",
    "    idfChecker[i] = 0\n",
    "\n",
    "idfSet = defaultdict(int)\n",
    "\n",
    "for iword in words:\n",
    "    idfSet[iword] = 0\n",
    "\n",
    "for d in trainSet:\n",
    "    r = ''.join([c for c in d['review'].lower() if not c in punctuation])\n",
    "\n",
    "    for k in idfChecker:\n",
    "        idfChecker[k] = 0\n",
    "\n",
    "    for w in r.split():\n",
    "        if w in words:\n",
    "            if idfChecker[w] == 0:\n",
    "                idfSet[w] += 1\n",
    "                idfChecker[w] = 1\n",
    "\n",
    "for iword in words:\n",
    "    idfSet[iword]\n",
    "    \n",
    "result = defaultdict(float)\n",
    "\n",
    "for num in idfSet:\n",
    "    result[num] = -1 * log10(idfSet[num] * 1.0 / N)"
   ]
  },
  {
   "cell_type": "code",
   "execution_count": 18,
   "metadata": {},
   "outputs": [],
   "source": [
    "wordId = dict(zip(words, range(len(words))))\n",
    "wordSet = set(words)\n",
    "\n",
    "def feature(datum):\n",
    "    feat = [0]*len(words)\n",
    "    r = ''.join([c for c in datum['review'].lower() if not c in punctuation])\n",
    "    for w in r.split():\n",
    "        if w in words:\n",
    "            feat[wordId[w]] += 1\n",
    "    feat.append(1) #offset\n",
    "    return feat\n",
    "\n",
    "X = [feature(d) for d in trainSet]\n",
    "y = [d['recommend'] for d in trainSet]\n",
    "\n",
    "clf = linear_model.Ridge(1.0, fit_intercept=False)\n",
    "clf.fit(X, y)\n",
    "theta = clf.coef_\n",
    "predictions = clf.predict(X)\n"
   ]
  },
  {
   "cell_type": "code",
   "execution_count": 19,
   "metadata": {},
   "outputs": [
    {
     "name": "stdout",
     "output_type": "stream",
     "text": [
      "42497\n",
      "MSE: 0.08002025771846652 ACC: 0.896617929405\n"
     ]
    }
   ],
   "source": [
    "print \"MSE: \" + str(MSE(clf, X, y)) + \" ACC: \" + str(ACC(clf, X, y))"
   ]
  },
  {
   "cell_type": "code",
   "execution_count": 20,
   "metadata": {},
   "outputs": [
    {
     "name": "stdout",
     "output_type": "stream",
     "text": [
      "10659\n",
      "MSE: 0.2467936420335417 ACC: 0.895112529392\n"
     ]
    }
   ],
   "source": [
    "X = [feature(d) for d in testSet]\n",
    "y = [d['recommend'] for d in testSet]\n",
    "print \"MSE: \" + str(MSE(clf, X, y)) + \" ACC: \" + str(ACC(clf, X, y))"
   ]
  },
  {
   "cell_type": "code",
   "execution_count": 21,
   "metadata": {},
   "outputs": [
    {
     "name": "stdout",
     "output_type": "stream",
     "text": [
      "[(-0.27959637142247046, 'sucks'), (-0.2647124426724208, 'worst'), (-0.2562198322165789, 'horrible'), (-0.23920276581981068, 'terrible'), (-0.2348923872748329, 'waste')]\n",
      "[(0.1438440936031105, 'shower'), (0.13157649758919934, 'john'), (0.09448315130347751, 'gud'), (0.09275542977596449, '1110'), (0.09267170520070628, '\\xcd\\x9c\\xca\\x96')]\n"
     ]
    }
   ],
   "source": [
    "# check what decides our predictor\n",
    "\n",
    "mapping = [(theta[wordId[w]], w) for w in wordId]\n",
    "mapping.sort()\n",
    "print mapping[:5]\n",
    "mapping.reverse()\n",
    "print mapping[:5]"
   ]
  },
  {
   "cell_type": "markdown",
   "metadata": {},
   "source": [
    "## Recommend Prediction Deep Neuron Network ##"
   ]
  },
  {
   "cell_type": "code",
   "execution_count": 5,
   "metadata": {},
   "outputs": [],
   "source": [
    "words_num = 1000\n",
    "\n",
    "### Ignore capitalization and remove punctuation\n",
    "wordCount = defaultdict(int)\n",
    "punctuation = set(string.punctuation)\n",
    "stemmer = PorterStemmer()\n",
    "for d in trainSet:\n",
    "    r = ''.join([c for c in d['review'].lower() if not c in punctuation])\n",
    "    for w in r.split():\n",
    "        #w = stemmer.stem(w) # with stemming\n",
    "        if w not in stopwords:\n",
    "            wordCount[w] += 1\n",
    "    \n",
    "counts = [(wordCount[w], w) for w in wordCount]\n",
    "counts.sort()\n",
    "counts.reverse()\n",
    "\n",
    "words = [x[1] for x in counts[:words_num]]\n",
    "\n",
    "\n",
    "wordId = dict(zip(words, range(len(words))))\n",
    "wordSet = set(words)\n",
    "\n",
    "def feature(datum):\n",
    "    feat = [0]*len(words)\n",
    "    r = ''.join([c for c in datum['review'].lower() if not c in punctuation])\n",
    "    for w in r.split():\n",
    "        if w in words:\n",
    "            feat[wordId[w]] += 1\n",
    "    #feat.append(1) #offset\n",
    "    return feat\n",
    "\n",
    "    \n",
    "train_data = [([feature(d)],[1 if d['recommend'] else 0])  for d in trainSet]\n",
    "test_data = [([feature(d)],[1 if d['recommend'] else 0])  for d in testSet]"
   ]
  },
  {
   "cell_type": "code",
   "execution_count": 8,
   "metadata": {},
   "outputs": [],
   "source": [
    "import numpy as np\n",
    "tr = [(feature(d),1 if d['recommend'] else 0) for d in trainSet]\n",
    "te = [(feature(d),1 if d['recommend'] else 0) for d in testSet]\n",
    "\n",
    "tmp = []\n",
    "tmpy = []\n",
    "test_data = []\n",
    "for (x, y) in te:\n",
    "    tmp.append(x)\n",
    "    tmpy.append(y)\n",
    "    if(len(tmp) >= 4):\n",
    "        newTmp = np.array(tmp).reshape(4,1000)\n",
    "        test_data.append((newTmp, np.array(tmpy)))\n",
    "        tmp = []\n",
    "        tmpy = []\n",
    "        \n",
    "tmp = []\n",
    "tmpy = []\n",
    "train_data = []\n",
    "for (x, y) in tr:\n",
    "    tmp.append(x)\n",
    "    tmpy.append(y)\n",
    "    if(len(tmp) >= 4):\n",
    "        newTmp = np.array(tmp).reshape(4,1000)\n",
    "        train_data.append((newTmp, np.array(tmpy)))\n",
    "        tmp = []\n",
    "        tmpy = []"
   ]
  },
  {
   "cell_type": "code",
   "execution_count": 9,
   "metadata": {},
   "outputs": [
    {
     "data": {
      "text/plain": [
       "Net(\n",
       "  (fc1): Linear(in_features=1000, out_features=1400, bias=True)\n",
       "  (dp1): Dropout(p=0.3)\n",
       "  (fc2): Linear(in_features=1400, out_features=700, bias=True)\n",
       "  (dp2): Dropout(p=0.3)\n",
       "  (fc4): Linear(in_features=700, out_features=1, bias=True)\n",
       ")"
      ]
     },
     "execution_count": 9,
     "metadata": {},
     "output_type": "execute_result"
    }
   ],
   "source": [
    "import torch\n",
    "import torch.nn as nn\n",
    "import torch.nn.functional as F\n",
    "\n",
    "\n",
    "class Net(nn.Module):\n",
    "\n",
    "    def __init__(self):\n",
    "        super(Net, self).__init__()\n",
    "        # 1 input image channel, 6 output channels, 5x5 square convolution\n",
    "        # kernel\n",
    "\n",
    "        self.fc1 = nn.Linear(1000, 1400)\n",
    "        self.dp1 = nn.Dropout(p=0.3)\n",
    "        self.fc2 = nn.Linear(1400, 700)\n",
    "        self.dp2 = nn.Dropout(p=0.3)\n",
    "        #self.fc3 = nn.Linear(600, 200)\n",
    "        self.fc4 = nn.Linear(700, 1)\n",
    "        #self.softmax = nn.Softmax(dim=1)\n",
    "        \n",
    "    def forward(self, x):\n",
    "        x = F.relu(self.fc1(x))\n",
    "        x = self.dp1(x)\n",
    "        x = F.relu(self.fc2(x))\n",
    "        x = self.dp2(x)\n",
    "        #x = F.relu(self.fc3(x))\n",
    "        x = F.sigmoid(self.fc4(x))\n",
    "        return x #self.softmax(x)\n",
    "\n",
    "net = Net()\n",
    "net.cuda()"
   ]
  },
  {
   "cell_type": "code",
   "execution_count": 10,
   "metadata": {},
   "outputs": [],
   "source": [
    "\n",
    "# 3. Define a Loss function and optimizer\n",
    "#   Classification Cross-Entropy loss and SGD with momentum\n",
    "import torch.optim as optim\n",
    "import torch.optim.lr_scheduler\n",
    "import copy\n",
    "criterion = nn.BCELoss()\n",
    "optimizer = optim.SGD(net.parameters(), lr=0.001, momentum=0.9)\n",
    "#optimizer = optim.Adam(net.parameters(), lr = 0.0001)\n",
    "scheduler=optim.lr_scheduler.MultiStepLR(optimizer,[15, 20, 25,100],gamma=0.3)\n"
   ]
  },
  {
   "cell_type": "code",
   "execution_count": 11,
   "metadata": {},
   "outputs": [
    {
     "name": "stdout",
     "output_type": "stream",
     "text": [
      "\n",
      "---------------------------------------------\n",
      "0 epoch starts...\n"
     ]
    },
    {
     "name": "stderr",
     "output_type": "stream",
     "text": [
      "C:\\Users\\hieri\\Anaconda3\\lib\\site-packages\\torch\\nn\\functional.py:1474: UserWarning: Using a target size (torch.Size([4])) that is different to the input size (torch.Size([4, 1])) is deprecated. Please ensure they have the same size.\n",
      "  \"Please ensure they have the same size.\".format(target.size(), input.size()))\n",
      "C:\\Users\\hieri\\Anaconda3\\lib\\site-packages\\ipykernel\\__main__.py:39: UserWarning: invalid index of a 0-dim tensor. This will be an error in PyTorch 0.5. Use tensor.item() to convert a 0-dim tensor to a Python number\n"
     ]
    },
    {
     "name": "stdout",
     "output_type": "stream",
     "text": [
      "Train:\n",
      "0.8870378151260504\n",
      "0.3219565113168308\n"
     ]
    },
    {
     "name": "stderr",
     "output_type": "stream",
     "text": [
      "C:\\Users\\hieri\\Anaconda3\\lib\\site-packages\\ipykernel\\__main__.py:59: UserWarning: invalid index of a 0-dim tensor. This will be an error in PyTorch 0.5. Use tensor.item() to convert a 0-dim tensor to a Python number\n"
     ]
    },
    {
     "name": "stdout",
     "output_type": "stream",
     "text": [
      "\n",
      "Holdout:\n",
      "0.8969230769230769\n",
      "0.276388921227931\n",
      "0 epoch ends; Used 46.84516358375549s\n",
      "---------------------------------------------\n",
      "\n",
      "---------------------------------------------\n",
      "1 epoch starts...\n",
      "Train:\n",
      "0.9010084033613446\n",
      "0.2590378797394026\n",
      "\n",
      "Holdout:\n",
      "0.9046153846153846\n",
      "0.26179820674234744\n",
      "1 epoch ends; Used 45.87299990653992s\n",
      "---------------------------------------------\n",
      "\n",
      "---------------------------------------------\n",
      "2 epoch starts...\n",
      "Train:\n",
      "0.9087605042016806\n",
      "0.24082104403254606\n",
      "\n",
      "Holdout:\n",
      "0.9037606837606837\n",
      "0.25942321089798837\n",
      "2 epoch ends; Used 45.51998519897461s\n",
      "---------------------------------------------\n",
      "\n",
      "---------------------------------------------\n",
      "3 epoch starts...\n",
      "Train:\n",
      "0.9117857142857143\n",
      "0.235540268014551\n",
      "\n",
      "Holdout:\n",
      "0.9033333333333333\n",
      "0.25954940318549846\n",
      "3 epoch ends; Used 45.96701645851135s\n",
      "---------------------------------------------\n",
      "\n",
      "---------------------------------------------\n",
      "4 epoch starts...\n",
      "Train:\n",
      "0.9169537815126051\n",
      "0.22056988447703427\n",
      "\n",
      "Holdout:\n",
      "0.9018803418803418\n",
      "0.264064694047213\n",
      "4 epoch ends; Used 45.57098174095154s\n",
      "---------------------------------------------\n",
      "\n",
      "---------------------------------------------\n",
      "5 epoch starts...\n",
      "Train:\n",
      "0.921155462184874\n",
      "0.20902852405925887\n",
      "\n",
      "Holdout:\n",
      "0.9037606837606837\n",
      "0.2748745471980168\n",
      "5 epoch ends; Used 46.11501979827881s\n",
      "---------------------------------------------\n",
      "\n",
      "---------------------------------------------\n",
      "6 epoch starts...\n",
      "Train:\n",
      "0.9277521008403361\n",
      "0.19424383738576625\n",
      "\n",
      "Holdout:\n",
      "0.9036752136752136\n",
      "0.2790226358511825\n",
      "6 epoch ends; Used 46.68200182914734s\n",
      "---------------------------------------------\n",
      "\n",
      "---------------------------------------------\n",
      "7 epoch starts...\n",
      "Train:\n",
      "0.9341806722689076\n",
      "0.17957633734657558\n",
      "\n",
      "Holdout:\n",
      "0.9000854700854701\n",
      "0.2936821063611554\n",
      "7 epoch ends; Used 46.87699580192566s\n",
      "---------------------------------------------\n",
      "\n",
      "---------------------------------------------\n",
      "8 epoch starts...\n",
      "Train:\n",
      "0.9404831932773109\n",
      "0.16639485063305096\n",
      "\n",
      "Holdout:\n",
      "0.9028205128205128\n",
      "0.32127552246884655\n",
      "8 epoch ends; Used 45.90600061416626s\n",
      "---------------------------------------------\n",
      "\n",
      "---------------------------------------------\n",
      "9 epoch starts...\n",
      "Train:\n",
      "0.9442436974789916\n",
      "0.1579398078199989\n",
      "\n",
      "Holdout:\n",
      "0.9012820512820513\n",
      "0.34043220564991655\n",
      "9 epoch ends; Used 45.873998403549194s\n",
      "---------------------------------------------\n"
     ]
    }
   ],
   "source": [
    "import time\n",
    "from torch.autograd import Variable\n",
    "import numpy as np\n",
    "\n",
    "epochs=10\n",
    "train_accuracy = []\n",
    "train_loss_set = []\n",
    "test_accuracy = []\n",
    "test_loss_set = []\n",
    "train_correct = 0\n",
    "\n",
    "for k in range(epochs):\n",
    "    \n",
    "    cur=time.time()\n",
    "    \n",
    "    running_loss=0\n",
    "    i=0\n",
    "    loss_sum_t=0\n",
    "    correct_sum_t=0\n",
    "    \n",
    "    print(\"\\n---------------------------------------------\")\n",
    "    print(str(k)+\" epoch starts...\")\n",
    "    for x,y in train_data:\n",
    "        i+=1\n",
    "        x, y = Variable(torch.FloatTensor(x).cuda()), Variable(torch.FloatTensor(y).cuda())\n",
    "        optimizer.zero_grad()\n",
    "        \n",
    "        outputs=net(x)\n",
    "        loss = criterion(outputs, y)\n",
    "        \n",
    "        preds = [1 if out >= 0.5 else 0 for out in outputs]\n",
    "        #running_loss += loss.data[0]\n",
    "        loss.backward()\n",
    "        optimizer.step()\n",
    "        \n",
    "        for index in range(len(preds)):\n",
    "            correct_sum_t += 1 if preds[index] == y.data[index] else 0\n",
    "        \n",
    "        loss_sum_t+=float(loss.data[0])\n",
    "        \n",
    "    \n",
    "    print(\"Train:\")\n",
    "    print(correct_sum_t*1.0/i/4)\n",
    "    print(loss_sum_t*1.0/i)\n",
    "    train_accuracy.append(correct_sum_t/i/4)\n",
    "    train_loss_set.append(loss_sum_t/i)\n",
    "    \n",
    "    c=0   \n",
    "    loss_sum_h=0\n",
    "    correct_sum_h=0         \n",
    "    for x,y in test_data:\n",
    "        c+=1\n",
    "        x, y = Variable(torch.FloatTensor(x).cuda()), Variable(torch.FloatTensor(y).cuda())\n",
    "        outputs=net(x)\n",
    "        preds = [1 if out >= 0.5 else 0 for out in outputs]\n",
    "        loss = criterion(outputs, y)\n",
    "        for i in range(len(preds)):\n",
    "            correct_sum_h += 1 if preds[i] == y.data[i] else 0\n",
    "        loss_sum_h+=float(loss.data[0])\n",
    " \n",
    "    print(\"\")\n",
    "    \n",
    "    print(\"Holdout:\")\n",
    "    print(correct_sum_h*1.0/c/4)\n",
    "    print(loss_sum_h*1.0/c)         \n",
    "    test_accuracy.append(correct_sum_h/c/4)\n",
    "    test_loss_set.append(loss_sum_h/c) \n",
    "    \n",
    "    #print(running_loss/len(Train))\n",
    "    print(str(k)+\" epoch ends; Used \"+str(time.time()-cur)+\"s\\n---------------------------------------------\")\n"
   ]
  },
  {
   "cell_type": "code",
   "execution_count": 16,
   "metadata": {},
   "outputs": [
    {
     "data": {
      "text/plain": [
       "Text(0,0.5,'Correct Rate')"
      ]
     },
     "execution_count": 16,
     "metadata": {},
     "output_type": "execute_result"
    },
    {
     "data": {
      "image/png": "[encoded data removed]",
      "text/plain": [
       "<matplotlib.figure.Figure at 0x1faa4cbd1d0>"
      ]
     },
     "metadata": {},
     "output_type": "display_data"
    }
   ],
   "source": [
    "import matplotlib.pyplot as plt\n",
    "import matplotlib.image as mpimg\n",
    "   \n",
    "plt.figure(num=None, figsize=(8, 6), dpi=200, facecolor='w', edgecolor='k')\n",
    "plt.title('Correct Rate')\n",
    "   \n",
    "l1,=plt.plot(train_accuracy, 'r')\n",
    "l3,=plt.plot(test_accuracy,'b')\n",
    "plt.legend((l1,l3),('Train Set', 'Hold on Set', 'Test Set'),\n",
    "    loc='upper right',fontsize=13)\n",
    "plt.xlabel('epoch/updates')\n",
    "plt.ylabel('Correct Rate')"
   ]
  },
  {
   "cell_type": "code",
   "execution_count": 15,
   "metadata": {},
   "outputs": [
    {
     "data": {
      "text/plain": [
       "Text(0,0.5,'Loss')"
      ]
     },
     "execution_count": 15,
     "metadata": {},
     "output_type": "execute_result"
    },
    {
     "data": {
      "image/png": "[encoded data removed]",
      "text/plain": [
       "<matplotlib.figure.Figure at 0x1faa4b73b00>"
      ]
     },
     "metadata": {},
     "output_type": "display_data"
    }
   ],
   "source": [
    "plt.figure(num=None, figsize=(8, 6), dpi=200, facecolor='w', edgecolor='k')\n",
    "plt.title('Loss')\n",
    "   \n",
    "l1,=plt.plot(train_loss_set, 'r')\n",
    "l3,=plt.plot(test_loss_set,'b')\n",
    "plt.legend((l1,l3),('Train Set', 'Hold on Set', 'Test Set'),\n",
    "    loc='upper right',fontsize=13)\n",
    "plt.xlabel('epoch/updates')\n",
    "plt.ylabel('Loss')"
   ]
  },
  {
   "cell_type": "markdown",
   "metadata": {},
   "source": [
    "## Recommend Prediction:  Top 50% ##"
   ]
  },
  {
   "cell_type": "code",
   "execution_count": 127,
   "metadata": {},
   "outputs": [
    {
     "name": "stdout",
     "output_type": "stream",
     "text": [
      "Reading data...\n",
      "done\n"
     ]
    }
   ],
   "source": [
    "print (\"Reading data...\")\n",
    "datan = list(parseData(\"http://cseweb.ucsd.edu/~teh007/australian_users_items.json\"))\n",
    "print (\"done\")\n",
    "\n",
    "itemsCount = defaultdict(int)\n",
    "totalCount = 0\n",
    "for d in datan:\n",
    "    for g in d['items']:\n",
    "        totalCount += 1\n",
    "        if g['item_id'] in itemsCount:\n",
    "            itemsCount[g['item_id']] += 1\n",
    "        else:\n",
    "            itemsCount[g['item_id']] = 1\n",
    "\n",
    "countList = []\n",
    "for p in itemsCount:\n",
    "    countList.append((itemsCount[p] , p))\n",
    "\n",
    "countList.sort()\n",
    "countList.reverse()\n",
    "\n",
    "i = 0\n",
    "c = 0\n",
    "top50 = []\n",
    "while(c < (totalCount/2)):\n",
    "    top50.append(countList[i][1])\n",
    "    i += 1\n",
    "    c += countList[i][0]"
   ]
  },
  {
   "cell_type": "code",
   "execution_count": 125,
   "metadata": {},
   "outputs": [
    {
     "data": {
      "text/plain": [
       "{'funny': '',\n",
       " 'helpful': '2 of 3 people (67%) found this review helpful',\n",
       " 'item_id': '730',\n",
       " 'last_edited': '',\n",
       " 'posted': 'Posted February 24, 2014.',\n",
       " 'recommend': True,\n",
       " 'review': 'Cool game, amazing improvment from CS Source!'}"
      ]
     },
     "execution_count": 125,
     "metadata": {},
     "output_type": "execute_result"
    }
   ],
   "source": [
    "trainSet[0]"
   ]
  },
  {
   "cell_type": "code",
   "execution_count": 160,
   "metadata": {},
   "outputs": [],
   "source": [
    "X = [1 if d['item_id'] in top50 else 0 for d in trainSet]\n",
    "y = [d['recommend'] for d in trainSet]"
   ]
  },
  {
   "cell_type": "code",
   "execution_count": 162,
   "metadata": {},
   "outputs": [
    {
     "name": "stdout",
     "output_type": "stream",
     "text": [
      "0.5962860928266492\n"
     ]
    }
   ],
   "source": [
    "acc = 0\n",
    "for i in range(len(X)):\n",
    "    if X[i] == y[i]:\n",
    "        acc += 1\n",
    "        \n",
    "print(acc * 1.0/ len(X))"
   ]
  },
  {
   "cell_type": "markdown",
   "metadata": {},
   "source": [
    "## Recommend Prediction: Latent Model ##"
   ]
  },
  {
   "cell_type": "code",
   "execution_count": null,
   "metadata": {},
   "outputs": [],
   "source": []
  }
 ],
 "metadata": {
  "kernelspec": {
   "display_name": "Python [conda env:Anaconda3]",
   "language": "python",
   "name": "conda-env-Anaconda3-py"
  },
  "language_info": {
   "codemirror_mode": {
    "name": "ipython",
    "version": 3
   },
   "file_extension": ".py",
   "mimetype": "text/x-python",
   "name": "python",
   "nbconvert_exporter": "python",
   "pygments_lexer": "ipython3",
   "version": "3.6.4"
  }
 },
 "nbformat": 4,
 "nbformat_minor": 2
}
